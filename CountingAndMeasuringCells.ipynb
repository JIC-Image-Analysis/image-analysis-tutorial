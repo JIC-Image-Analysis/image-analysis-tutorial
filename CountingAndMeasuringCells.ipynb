{
 "cells": [
  {
   "cell_type": "markdown",
   "metadata": {},
   "source": [
    "# Counting and measuring cells\n",
    "\n",
    "Now we'll work through a whole analysis. First we need to load some library code:"
   ]
  },
  {
   "cell_type": "code",
   "execution_count": null,
   "metadata": {},
   "outputs": [],
   "source": [
    "!pip install --quiet dtoolbioimage imageio\n",
    "from dtoolbioimage import Image"
   ]
  },
  {
   "cell_type": "markdown",
   "metadata": {},
   "source": [
    "Next we'll load our image:"
   ]
  },
  {
   "cell_type": "code",
   "execution_count": null,
   "metadata": {},
   "outputs": [],
   "source": [
    "from imageio import imread\n",
    "base_image = imread('sample_cell_image_grayscale.png').view(Image)"
   ]
  },
  {
   "cell_type": "markdown",
   "metadata": {},
   "source": [
    "Then we can view it:"
   ]
  },
  {
   "cell_type": "code",
   "execution_count": null,
   "metadata": {
    "scrolled": true
   },
   "outputs": [],
   "source": [
    "base_image"
   ]
  },
  {
   "cell_type": "markdown",
   "metadata": {},
   "source": [
    "To find the cells, we start by thresholding the image. What happens when we change the parameter?"
   ]
  },
  {
   "cell_type": "code",
   "execution_count": null,
   "metadata": {},
   "outputs": [],
   "source": [
    "base_image > 100"
   ]
  },
  {
   "cell_type": "markdown",
   "metadata": {},
   "source": [
    "Let's look at a better way to threshold:"
   ]
  },
  {
   "cell_type": "code",
   "execution_count": null,
   "metadata": {},
   "outputs": [],
   "source": [
    "import skimage.filters\n",
    "block_size=91\n",
    "threshold = skimage.filters.threshold_local(base_image, block_size)\n",
    "thresholded = base_image > threshold\n",
    "thresholded.view(Image)"
   ]
  },
  {
   "cell_type": "markdown",
   "metadata": {},
   "source": [
    "Next we need to tidy up the result by removing some of the noise:"
   ]
  },
  {
   "cell_type": "code",
   "execution_count": null,
   "metadata": {
    "scrolled": true
   },
   "outputs": [],
   "source": [
    "from skimage.morphology import remove_small_objects\n",
    "image = remove_small_objects(thresholded, min_size=1000)\n",
    "image.view(Image)"
   ]
  },
  {
   "cell_type": "markdown",
   "metadata": {},
   "source": [
    "Similarly with small light areas:"
   ]
  },
  {
   "cell_type": "code",
   "execution_count": null,
   "metadata": {
    "scrolled": true
   },
   "outputs": [],
   "source": [
    "from skimage.util import invert\n",
    "image = invert(image)\n",
    "image = remove_small_objects(image, min_size=1000)\n",
    "image = invert(image)\n",
    "image.view(Image)\n"
   ]
  },
  {
   "cell_type": "markdown",
   "metadata": {},
   "source": [
    "Now we need to segment the image:"
   ]
  },
  {
   "cell_type": "code",
   "execution_count": null,
   "metadata": {},
   "outputs": [],
   "source": [
    "from dtoolbioimage.segment import Segmentation\n",
    "from skimage.measure import label\n",
    "segmentation = label(image).view(Segmentation)\n",
    "segmentation"
   ]
  },
  {
   "cell_type": "markdown",
   "metadata": {},
   "source": [
    "Next we remove the border regions:"
   ]
  },
  {
   "cell_type": "code",
   "execution_count": null,
   "metadata": {},
   "outputs": [],
   "source": [
    "import skimage.segmentation\n",
    "cleared = skimage.segmentation.clear_border(segmentation)\n",
    "cleared.view(Segmentation)"
   ]
  },
  {
   "cell_type": "markdown",
   "metadata": {},
   "source": [
    "Now we'll make a function to annotate our image to label the cells:"
   ]
  },
  {
   "cell_type": "code",
   "execution_count": null,
   "metadata": {},
   "outputs": [],
   "source": [
    "!pip install --quiet jicbioimage.illustrate\n",
    "from jicbioimage.illustrate import AnnotatedImage\n",
    "from dtoolbioimage.segment import rprops_by_label\n",
    "\n",
    "def generate_label_image(segmentation):\n",
    "\n",
    "    base_for_ann = 100 * (segmentation > 0)\n",
    "    ann = AnnotatedImage.from_grayscale(base_for_ann)\n",
    "\n",
    "    for sid, rprops in rprops_by_label(segmentation).items():\n",
    "        c = rprops.centroid\n",
    "        ann.text_at(\n",
    "            str(sid),\n",
    "            map(int, c),\n",
    "            size=30,\n",
    "            color=(255, 255, 0),\n",
    "            center=True\n",
    "        )\n",
    "\n",
    "    return ann.view(Image)"
   ]
  },
  {
   "cell_type": "code",
   "execution_count": null,
   "metadata": {},
   "outputs": [],
   "source": [
    "generate_label_image(cleared)"
   ]
  },
  {
   "cell_type": "markdown",
   "metadata": {},
   "source": [
    "Finally we can write another function which will actually measure the cell properties:"
   ]
  },
  {
   "cell_type": "code",
   "execution_count": null,
   "metadata": {},
   "outputs": [],
   "source": [
    "from skimage.measure import regionprops\n",
    "def parameterise_cells(segmentation):\n",
    "\n",
    "    all_cell_props = regionprops(segmentation)\n",
    "\n",
    "    cell_information = []\n",
    "    for props in all_cell_props:\n",
    "\n",
    "        centroid_row, centroid_col = props.centroid\n",
    "        cell_entry = dict(\n",
    "            width=int(props.minor_axis_length),\n",
    "            length=int(props.major_axis_length),\n",
    "            area=props.area,\n",
    "            identifier=props.label,\n",
    "            perimeter=props.perimeter,\n",
    "            convex_area=props.convex_area,\n",
    "            centroid_row=centroid_row,\n",
    "            centroid_col=centroid_col\n",
    "        )\n",
    "\n",
    "        cell_information.append(cell_entry)\n",
    "\n",
    "    return cell_information"
   ]
  },
  {
   "cell_type": "code",
   "execution_count": null,
   "metadata": {},
   "outputs": [],
   "source": [
    "cell_data = parameterise_cells(cleared)"
   ]
  },
  {
   "cell_type": "code",
   "execution_count": null,
   "metadata": {},
   "outputs": [],
   "source": [
    "!pip install --quiet pandas\n",
    "import pandas as pd"
   ]
  },
  {
   "cell_type": "code",
   "execution_count": null,
   "metadata": {},
   "outputs": [],
   "source": [
    "pd.DataFrame(cell_data).set_index('identifier')"
   ]
  },
  {
   "cell_type": "code",
   "execution_count": null,
   "metadata": {},
   "outputs": [],
   "source": []
  },
  {
   "cell_type": "code",
   "execution_count": null,
   "metadata": {},
   "outputs": [],
   "source": []
  }
 ],
 "metadata": {
  "kernelspec": {
   "display_name": "Python 3",
   "language": "python",
   "name": "python3"
  },
  "language_info": {
   "codemirror_mode": {
    "name": "ipython",
    "version": 3
   },
   "file_extension": ".py",
   "mimetype": "text/x-python",
   "name": "python",
   "nbconvert_exporter": "python",
   "pygments_lexer": "ipython3",
   "version": "3.7.1"
  }
 },
 "nbformat": 4,
 "nbformat_minor": 2
}
